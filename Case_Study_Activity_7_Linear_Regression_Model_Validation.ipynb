{
 "cells": [
  {
   "cell_type": "code",
   "execution_count": 1,
   "id": "f4cbe888",
   "metadata": {},
   "outputs": [],
   "source": [
    "import pandas as pd\n",
    "import numpy as np\n",
    "import matplotlib.pyplot as plt\n",
    "import seaborn as sns\n",
    "%matplotlib inline\n",
    "\n",
    "from sklearn.preprocessing import StandardScaler\n",
    "from sklearn.preprocessing import minmax_scale\n",
    "from sklearn.preprocessing import OneHotEncoder\n",
    "from sklearn.linear_model import LinearRegression\n",
    "from sklearn.model_selection import train_test_split\n",
    "from sklearn.preprocessing import PowerTransformer\n",
    "from sklearn.linear_model import LinearRegression\n",
    "import statsmodels.api as sm\n",
    "from scipy.stats import boxcox\n",
    "from sklearn.preprocessing import QuantileTransformer"
   ]
  },
  {
   "cell_type": "code",
   "execution_count": 2,
   "id": "5fa42fa1",
   "metadata": {},
   "outputs": [],
   "source": [
    "customer_df = pd.read_csv(\"Data/Cleaned_Data_Marketing_Customer_Analysis_Round2.csv\")"
   ]
  },
  {
   "cell_type": "code",
   "execution_count": 3,
   "id": "e738fee8",
   "metadata": {},
   "outputs": [],
   "source": [
    "customer_df.dropna(inplace=True)"
   ]
  },
  {
   "cell_type": "code",
   "execution_count": 4,
   "id": "f27b25f5",
   "metadata": {},
   "outputs": [],
   "source": [
    "# X y Split \n",
    "\n",
    "X = customer_df.drop('Total Claim Amount', axis=1)\n",
    "\n",
    "y = customer_df['Total Claim Amount'] #target variable"
   ]
  },
  {
   "cell_type": "code",
   "execution_count": 5,
   "id": "08059545",
   "metadata": {},
   "outputs": [
    {
     "name": "stderr",
     "output_type": "stream",
     "text": [
      "/var/folders/qw/spw5ptl93b53bn0c_4sqb01m0000gq/T/ipykernel_83422/520087021.py:6: DeprecationWarning: `np.object` is a deprecated alias for the builtin `object`. To silence this warning, use `object` by itself. Doing this will not modify any behavior and is safe. \n",
      "Deprecated in NumPy 1.20; for more details and guidance: https://numpy.org/devdocs/release/1.20.0-notes.html#deprecations\n",
      "  X_categorical = X.select_dtypes(np.object)\n",
      "/var/folders/qw/spw5ptl93b53bn0c_4sqb01m0000gq/T/ipykernel_83422/520087021.py:8: SettingWithCopyWarning: \n",
      "A value is trying to be set on a copy of a slice from a DataFrame.\n",
      "Try using .loc[row_indexer,col_indexer] = value instead\n",
      "\n",
      "See the caveats in the documentation: https://pandas.pydata.org/pandas-docs/stable/user_guide/indexing.html#returning-a-view-versus-a-copy\n",
      "  X_categorical['Number of Open Complaints'] = customer_df['Number of Open Complaints']\n",
      "/var/folders/qw/spw5ptl93b53bn0c_4sqb01m0000gq/T/ipykernel_83422/520087021.py:9: SettingWithCopyWarning: \n",
      "A value is trying to be set on a copy of a slice from a DataFrame.\n",
      "Try using .loc[row_indexer,col_indexer] = value instead\n",
      "\n",
      "See the caveats in the documentation: https://pandas.pydata.org/pandas-docs/stable/user_guide/indexing.html#returning-a-view-versus-a-copy\n",
      "  X_categorical['Number of Policies'] = customer_df['Number of Policies']\n",
      "/Users/filipmakara2/opt/anaconda3/envs/DA_Env/lib/python3.9/site-packages/pandas/core/frame.py:4906: SettingWithCopyWarning: \n",
      "A value is trying to be set on a copy of a slice from a DataFrame\n",
      "\n",
      "See the caveats in the documentation: https://pandas.pydata.org/pandas-docs/stable/user_guide/indexing.html#returning-a-view-versus-a-copy\n",
      "  return super().drop(\n"
     ]
    }
   ],
   "source": [
    "# split X to numeric and categorical for transformation\n",
    "\n",
    "X_numeric = X._get_numeric_data()\n",
    "X_numeric.drop(columns=['Number of Open Complaints','Number of Policies'], inplace=True)\n",
    "\n",
    "X_categorical = X.select_dtypes(np.object)\n",
    "\n",
    "X_categorical['Number of Open Complaints'] = customer_df['Number of Open Complaints']\n",
    "X_categorical['Number of Policies'] = customer_df['Number of Policies']\n",
    "X_categorical.drop('Customer', axis=1, inplace=True)"
   ]
  },
  {
   "cell_type": "code",
   "execution_count": 6,
   "id": "ceb9b607",
   "metadata": {},
   "outputs": [],
   "source": [
    "# Data splitting (just numerical columns) - TRAIN / TEST\n",
    "\n",
    "X_num_train, X_num_test, y_train, y_test = train_test_split(X_numeric,y,test_size=.30,random_state=123)"
   ]
  },
  {
   "cell_type": "code",
   "execution_count": 7,
   "id": "50e58efd",
   "metadata": {},
   "outputs": [],
   "source": [
    "# Standardize the data (just for the numerical columns)\n",
    "\n",
    "#TRAIN\n",
    "\n",
    "std_scaler=StandardScaler().fit(X_num_train)   \n",
    "\n",
    "X_num_train_scaled=std_scaler.transform(X_num_train)"
   ]
  },
  {
   "cell_type": "code",
   "execution_count": 8,
   "id": "35182cec",
   "metadata": {},
   "outputs": [],
   "source": [
    "#TEST\n",
    "\n",
    "X_num_test_scaled=std_scaler.transform(X_num_test)"
   ]
  },
  {
   "cell_type": "code",
   "execution_count": 9,
   "id": "3dd2c16f",
   "metadata": {},
   "outputs": [],
   "source": [
    "#Quantile Transformer\n",
    "\n",
    "#qt = QuantileTransformer(output_distribution=\"normal\").fit(X_num_train_scaled)\n",
    "\n",
    "#income_train_transformed = qt.transform(X_num_train_scaled)   ## to_numpy().reshape(-1,1)) <-- this and column name next to df name only if standard scaler wasnt used before.\n",
    "\n",
    "#sns.displot(income_train_transformed)"
   ]
  },
  {
   "cell_type": "code",
   "execution_count": 10,
   "id": "a757cc8e",
   "metadata": {},
   "outputs": [
    {
     "data": {
      "text/plain": [
       "LinearRegression()"
      ]
     },
     "execution_count": 10,
     "metadata": {},
     "output_type": "execute_result"
    }
   ],
   "source": [
    "# Model fitting \n",
    "\n",
    "model=LinearRegression()    \n",
    "model.fit(X_num_train_scaled, y_train)"
   ]
  },
  {
   "cell_type": "code",
   "execution_count": 11,
   "id": "7daa859d",
   "metadata": {},
   "outputs": [
    {
     "data": {
      "text/plain": [
       "array([ -6.56693665, -55.39664806, 167.08126566,  -6.16343291,\n",
       "        -5.55103635])"
      ]
     },
     "execution_count": 11,
     "metadata": {},
     "output_type": "execute_result"
    }
   ],
   "source": [
    "#coefficients\n",
    "\n",
    "model.coef_"
   ]
  },
  {
   "cell_type": "code",
   "execution_count": 12,
   "id": "8bcbf31e",
   "metadata": {},
   "outputs": [
    {
     "data": {
      "text/plain": [
       "378.1744001695634"
      ]
     },
     "execution_count": 12,
     "metadata": {},
     "output_type": "execute_result"
    }
   ],
   "source": [
    "#intercept\n",
    "\n",
    "model.intercept_"
   ]
  },
  {
   "cell_type": "code",
   "execution_count": 13,
   "id": "e2182b27",
   "metadata": {},
   "outputs": [
    {
     "data": {
      "text/plain": [
       "0.4384805950087882"
      ]
     },
     "execution_count": 13,
     "metadata": {},
     "output_type": "execute_result"
    }
   ],
   "source": [
    "#score of the model\n",
    "\n",
    "model.score(X_num_test_scaled, y_test)"
   ]
  },
  {
   "cell_type": "code",
   "execution_count": 14,
   "id": "8b089f75",
   "metadata": {},
   "outputs": [],
   "source": [
    "#prediciton\n",
    "\n",
    "y_pred=model.predict(X_num_test_scaled)"
   ]
  },
  {
   "cell_type": "code",
   "execution_count": 15,
   "id": "de70fc3c",
   "metadata": {},
   "outputs": [
    {
     "data": {
      "text/plain": [
       "array([343.425438  , 192.25220012, 363.16155879, ..., 406.75684475,\n",
       "       286.58461196, 455.63398348])"
      ]
     },
     "execution_count": 15,
     "metadata": {},
     "output_type": "execute_result"
    }
   ],
   "source": [
    "y_pred"
   ]
  },
  {
   "cell_type": "code",
   "execution_count": 16,
   "id": "1eebb2f7",
   "metadata": {},
   "outputs": [
    {
     "data": {
      "text/plain": [
       "1984     523.89\n",
       "6363     355.20\n",
       "10639    395.73\n",
       "8774     321.60\n",
       "1840     394.97\n",
       "          ...  \n",
       "768      355.20\n",
       "9904     199.28\n",
       "3387     412.80\n",
       "6965     297.60\n",
       "8063     504.00\n",
       "Name: Total Claim Amount, Length: 1011, dtype: float64"
      ]
     },
     "execution_count": 16,
     "metadata": {},
     "output_type": "execute_result"
    }
   ],
   "source": [
    "y_test"
   ]
  },
  {
   "cell_type": "code",
   "execution_count": 17,
   "id": "523692b8",
   "metadata": {},
   "outputs": [
    {
     "data": {
      "text/html": [
       "<div>\n",
       "<style scoped>\n",
       "    .dataframe tbody tr th:only-of-type {\n",
       "        vertical-align: middle;\n",
       "    }\n",
       "\n",
       "    .dataframe tbody tr th {\n",
       "        vertical-align: top;\n",
       "    }\n",
       "\n",
       "    .dataframe thead th {\n",
       "        text-align: right;\n",
       "    }\n",
       "</style>\n",
       "<table border=\"1\" class=\"dataframe\">\n",
       "  <thead>\n",
       "    <tr style=\"text-align: right;\">\n",
       "      <th></th>\n",
       "      <th>y_test</th>\n",
       "      <th>y_pred</th>\n",
       "    </tr>\n",
       "  </thead>\n",
       "  <tbody>\n",
       "    <tr>\n",
       "      <th>1984</th>\n",
       "      <td>523.89</td>\n",
       "      <td>343.425438</td>\n",
       "    </tr>\n",
       "    <tr>\n",
       "      <th>6363</th>\n",
       "      <td>355.20</td>\n",
       "      <td>192.252200</td>\n",
       "    </tr>\n",
       "    <tr>\n",
       "      <th>10639</th>\n",
       "      <td>395.73</td>\n",
       "      <td>363.161559</td>\n",
       "    </tr>\n",
       "    <tr>\n",
       "      <th>8774</th>\n",
       "      <td>321.60</td>\n",
       "      <td>314.878275</td>\n",
       "    </tr>\n",
       "    <tr>\n",
       "      <th>1840</th>\n",
       "      <td>394.97</td>\n",
       "      <td>471.621107</td>\n",
       "    </tr>\n",
       "    <tr>\n",
       "      <th>...</th>\n",
       "      <td>...</td>\n",
       "      <td>...</td>\n",
       "    </tr>\n",
       "    <tr>\n",
       "      <th>768</th>\n",
       "      <td>355.20</td>\n",
       "      <td>309.786963</td>\n",
       "    </tr>\n",
       "    <tr>\n",
       "      <th>9904</th>\n",
       "      <td>199.28</td>\n",
       "      <td>229.190837</td>\n",
       "    </tr>\n",
       "    <tr>\n",
       "      <th>3387</th>\n",
       "      <td>412.80</td>\n",
       "      <td>406.756845</td>\n",
       "    </tr>\n",
       "    <tr>\n",
       "      <th>6965</th>\n",
       "      <td>297.60</td>\n",
       "      <td>286.584612</td>\n",
       "    </tr>\n",
       "    <tr>\n",
       "      <th>8063</th>\n",
       "      <td>504.00</td>\n",
       "      <td>455.633983</td>\n",
       "    </tr>\n",
       "  </tbody>\n",
       "</table>\n",
       "<p>1011 rows × 2 columns</p>\n",
       "</div>"
      ],
      "text/plain": [
       "       y_test      y_pred\n",
       "1984   523.89  343.425438\n",
       "6363   355.20  192.252200\n",
       "10639  395.73  363.161559\n",
       "8774   321.60  314.878275\n",
       "1840   394.97  471.621107\n",
       "...       ...         ...\n",
       "768    355.20  309.786963\n",
       "9904   199.28  229.190837\n",
       "3387   412.80  406.756845\n",
       "6965   297.60  286.584612\n",
       "8063   504.00  455.633983\n",
       "\n",
       "[1011 rows x 2 columns]"
      ]
     },
     "execution_count": 17,
     "metadata": {},
     "output_type": "execute_result"
    }
   ],
   "source": [
    "result = pd.DataFrame({\"y_test\":y_test,\"y_pred\":y_pred})\n",
    "result"
   ]
  },
  {
   "cell_type": "code",
   "execution_count": 18,
   "id": "6db9b46f",
   "metadata": {},
   "outputs": [
    {
     "data": {
      "text/plain": [
       "[<matplotlib.lines.Line2D at 0x7fa6390a1b80>]"
      ]
     },
     "execution_count": 18,
     "metadata": {},
     "output_type": "execute_result"
    },
    {
     "data": {
      "image/png": "[encoded data removed]",
      "text/plain": [
       "<Figure size 1152x432 with 3 Axes>"
      ]
     },
     "metadata": {
      "needs_background": "light"
     },
     "output_type": "display_data"
    }
   ],
   "source": [
    "fig1, ax1 = plt.subplots(1,3, figsize=(16,6))\n",
    "\n",
    "sns.scatterplot(x=y_pred, y=y_test, ax=ax1[0])\n",
    "ax1[0].set_xlabel(\"y_test\")\n",
    "ax1[0].set_ylabel(\"y_pred\")\n",
    "ax1[0].set_title('Test Set - Predicted vs. Real', fontweight='bold')\n",
    "\n",
    "sns.histplot(y_test-y_pred, ax = ax1[1])\n",
    "ax1[1].set_xlabel(\"Test y-y_pred\")\n",
    "ax1[1].set_title('Test Set - Residual histogram', fontweight='bold')\n",
    "\n",
    "sns.scatterplot(x = y_pred,y = y_test - y_pred, ax=ax1[2])\n",
    "ax1[2].set_xlabel(\"predicted\")\n",
    "ax1[2].set_ylabel(\"residuals\")\n",
    "ax1[2].set_title('Residuals by Predicted', fontweight='bold')\n",
    "ax1[2].plot(y_pred,np.zeros(len(y_pred)),linestyle='dashed', color='orange')"
   ]
  },
  {
   "cell_type": "code",
   "execution_count": 19,
   "id": "38740cdf",
   "metadata": {},
   "outputs": [
    {
     "name": "stdout",
     "output_type": "stream",
     "text": [
      "38232.60323350813\n",
      "139.7489547899727\n",
      "195.5315913951199\n"
     ]
    }
   ],
   "source": [
    "#Model validation\n",
    "\n",
    "from sklearn.metrics import mean_squared_error as mse\n",
    "from sklearn.metrics import mean_absolute_error as mae\n",
    "\n",
    "MSE = mse(y_test,y_pred)\n",
    "MAE = mae(y_test,y_pred)\n",
    "RMSE = np.sqrt(MSE)\n",
    "\n",
    "print(MSE)\n",
    "print(MAE)\n",
    "print(RMSE)"
   ]
  },
  {
   "cell_type": "code",
   "execution_count": 20,
   "id": "a7d71926",
   "metadata": {},
   "outputs": [],
   "source": [
    "#Feature Importance\n",
    "\n",
    "features_importances = pd.DataFrame(data={\n",
    "    'Attribute': X_num_train.columns,\n",
    "    'Importance': abs(model.coef_)\n",
    "})\n",
    "features_importances = features_importances.sort_values(by='Importance', ascending=False)"
   ]
  },
  {
   "cell_type": "code",
   "execution_count": 21,
   "id": "004f0229",
   "metadata": {},
   "outputs": [
    {
     "data": {
      "text/html": [
       "<div>\n",
       "<style scoped>\n",
       "    .dataframe tbody tr th:only-of-type {\n",
       "        vertical-align: middle;\n",
       "    }\n",
       "\n",
       "    .dataframe tbody tr th {\n",
       "        vertical-align: top;\n",
       "    }\n",
       "\n",
       "    .dataframe thead th {\n",
       "        text-align: right;\n",
       "    }\n",
       "</style>\n",
       "<table border=\"1\" class=\"dataframe\">\n",
       "  <thead>\n",
       "    <tr style=\"text-align: right;\">\n",
       "      <th></th>\n",
       "      <th>Attribute</th>\n",
       "      <th>Importance</th>\n",
       "    </tr>\n",
       "  </thead>\n",
       "  <tbody>\n",
       "    <tr>\n",
       "      <th>2</th>\n",
       "      <td>Monthly Premium Auto</td>\n",
       "      <td>167.081266</td>\n",
       "    </tr>\n",
       "    <tr>\n",
       "      <th>1</th>\n",
       "      <td>Income</td>\n",
       "      <td>55.396648</td>\n",
       "    </tr>\n",
       "    <tr>\n",
       "      <th>0</th>\n",
       "      <td>Customer Lifetime Value</td>\n",
       "      <td>6.566937</td>\n",
       "    </tr>\n",
       "    <tr>\n",
       "      <th>3</th>\n",
       "      <td>Months Since Last Claim</td>\n",
       "      <td>6.163433</td>\n",
       "    </tr>\n",
       "    <tr>\n",
       "      <th>4</th>\n",
       "      <td>Months Since Policy Inception</td>\n",
       "      <td>5.551036</td>\n",
       "    </tr>\n",
       "  </tbody>\n",
       "</table>\n",
       "</div>"
      ],
      "text/plain": [
       "                       Attribute  Importance\n",
       "2           Monthly Premium Auto  167.081266\n",
       "1                         Income   55.396648\n",
       "0        Customer Lifetime Value    6.566937\n",
       "3        Months Since Last Claim    6.163433\n",
       "4  Months Since Policy Inception    5.551036"
      ]
     },
     "execution_count": 21,
     "metadata": {},
     "output_type": "execute_result"
    }
   ],
   "source": [
    "features_importances"
   ]
  }
 ],
 "metadata": {
  "kernelspec": {
   "display_name": "Python 3 (ipykernel)",
   "language": "python",
   "name": "python3"
  },
  "language_info": {
   "codemirror_mode": {
    "name": "ipython",
    "version": 3
   },
   "file_extension": ".py",
   "mimetype": "text/x-python",
   "name": "python",
   "nbconvert_exporter": "python",
   "pygments_lexer": "ipython3",
   "version": "3.9.7"
  }
 },
 "nbformat": 4,
 "nbformat_minor": 5
}
